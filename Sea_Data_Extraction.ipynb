{
 "cells": [
  {
   "cell_type": "code",
   "execution_count": 1,
   "id": "15ba2784",
   "metadata": {},
   "outputs": [],
   "source": [
    "# Calling required Packages\n",
    "import os\n",
    "import matplotlib.pyplot as plt\n",
    "import xarray as xr\n",
    "import rioxarray as rio\n",
    "import getpass\n",
    "%matplotlib inline\n",
    "import pydap\n",
    "from pydap.client import open_url\n",
    "import netCDF4\n",
    "#import rasterio"
   ]
  },
  {
   "cell_type": "code",
   "execution_count": 2,
   "id": "b79308e3",
   "metadata": {},
   "outputs": [
    {
     "name": "stdout",
     "output_type": "stream",
     "text": [
      "Please Enter Your CMS Password: ········\n"
     ]
    }
   ],
   "source": [
    "#Accessign the CMS data domain\n",
    "USERNAME = 'eenan'\n",
    "PASSWORD = getpass.getpass('Please Enter Your CMS Password: ')\n",
    "DATASET_ID = 'cmems_mod_glo_phy_my_0.083_P1M-m'"
   ]
  },
  {
   "cell_type": "code",
   "execution_count": 3,
   "id": "d673ff1c",
   "metadata": {},
   "outputs": [],
   "source": [
    "## Extract data from the storage\n",
    "def copernicusmarine_datastore(dataset, username, password):\n",
    "    from pydap.client import open_url\n",
    "    from pydap.cas.get_cookies import setup_session\n",
    "    sig_url = 'https://cmems-cas.cls.fr/cas/login'\n",
    "    session = setup_session(sig_url, username, password)\n",
    "    session.cookies.set(\"CASTGC\", session.cookies.get_dict()['CASTGC'])\n",
    "    database = ['my', 'nrt']\n",
    "    url = f'https://{database[0]}.cmems-du.eu/thredds/dodsC/{dataset}'\n",
    "    try:\n",
    "        dat_store = xr.backends.PydapDataStore(open_url(url, session=session))  \n",
    "    except:\n",
    "        url = f'https://{database[1]}.cmems-du.eu/thredds/dodsC/{dataset}'\n",
    "        dat_store = xr.backends.PydapDataStore(open_url(url, session=session)) # needs PyDAP >= v3.3.0 see https://github.com/pydap/pydap/pull/223/commits\n",
    "    return dat_store"
   ]
  },
  {
   "cell_type": "code",
   "execution_count": 4,
   "id": "03e9ea66",
   "metadata": {},
   "outputs": [],
   "source": [
    "#Stroing the data\n",
    "dat_store = copernicusmarine_datastore(DATASET_ID, USERNAME, PASSWORD)\n",
    "\n",
    "#Opening the data as array\n",
    "dat_arr = xr.open_dataset(dat_store)  #  2020-01-16    2020-02-15"
   ]
  },
  {
   "cell_type": "code",
   "execution_count": 110,
   "id": "968b96c1",
   "metadata": {},
   "outputs": [],
   "source": [
    "# Changing working Directory\n",
    "nd='C:\\\\Users\\\\enanm\\\\Desktop\\\\Prac_Coper\\\\NewEnvironment\\\\All_Data\\\\Sea_Water_Salinity\\\\2020'\n",
    "os.chdir(nd)"
   ]
  },
  {
   "cell_type": "code",
   "execution_count": 124,
   "id": "54e34aa4",
   "metadata": {},
   "outputs": [
    {
     "ename": "KeyError",
     "evalue": "'2020-06-14'",
     "output_type": "error",
     "traceback": [
      "\u001b[1;31m---------------------------------------------------------------------------\u001b[0m",
      "\u001b[1;31mKeyError\u001b[0m                                  Traceback (most recent call last)",
      "File \u001b[1;32m~\\anaconda3\\envs\\Sea_Data\\lib\\site-packages\\pandas\\core\\indexes\\datetimes.py:650\u001b[0m, in \u001b[0;36mDatetimeIndex.get_loc\u001b[1;34m(self, key, method, tolerance)\u001b[0m\n\u001b[0;32m    649\u001b[0m \u001b[38;5;28;01mtry\u001b[39;00m:\n\u001b[1;32m--> 650\u001b[0m     \u001b[38;5;28;01mreturn\u001b[39;00m \u001b[38;5;28;43mself\u001b[39;49m\u001b[38;5;241;43m.\u001b[39;49m\u001b[43m_partial_date_slice\u001b[49m\u001b[43m(\u001b[49m\u001b[43mreso\u001b[49m\u001b[43m,\u001b[49m\u001b[43m \u001b[49m\u001b[43mparsed\u001b[49m\u001b[43m)\u001b[49m\n\u001b[0;32m    651\u001b[0m \u001b[38;5;28;01mexcept\u001b[39;00m \u001b[38;5;167;01mKeyError\u001b[39;00m \u001b[38;5;28;01mas\u001b[39;00m err:\n",
      "File \u001b[1;32m~\\anaconda3\\envs\\Sea_Data\\lib\\site-packages\\pandas\\core\\indexes\\datetimelike.py:271\u001b[0m, in \u001b[0;36mDatetimeIndexOpsMixin._partial_date_slice\u001b[1;34m(self, reso, parsed)\u001b[0m\n\u001b[0;32m    267\u001b[0m \u001b[38;5;28;01mif\u001b[39;00m \u001b[38;5;28mlen\u001b[39m(\u001b[38;5;28mself\u001b[39m) \u001b[38;5;129;01mand\u001b[39;00m (\n\u001b[0;32m    268\u001b[0m     (t1 \u001b[38;5;241m<\u001b[39m \u001b[38;5;28mself\u001b[39m[\u001b[38;5;241m0\u001b[39m] \u001b[38;5;129;01mand\u001b[39;00m t2 \u001b[38;5;241m<\u001b[39m \u001b[38;5;28mself\u001b[39m[\u001b[38;5;241m0\u001b[39m]) \u001b[38;5;129;01mor\u001b[39;00m (t1 \u001b[38;5;241m>\u001b[39m \u001b[38;5;28mself\u001b[39m[\u001b[38;5;241m-\u001b[39m\u001b[38;5;241m1\u001b[39m] \u001b[38;5;129;01mand\u001b[39;00m t2 \u001b[38;5;241m>\u001b[39m \u001b[38;5;28mself\u001b[39m[\u001b[38;5;241m-\u001b[39m\u001b[38;5;241m1\u001b[39m])\n\u001b[0;32m    269\u001b[0m ):\n\u001b[0;32m    270\u001b[0m     \u001b[38;5;66;03m# we are out of range\u001b[39;00m\n\u001b[1;32m--> 271\u001b[0m     \u001b[38;5;28;01mraise\u001b[39;00m \u001b[38;5;167;01mKeyError\u001b[39;00m\n\u001b[0;32m    273\u001b[0m \u001b[38;5;66;03m# TODO: does this depend on being monotonic _increasing_?\u001b[39;00m\n\u001b[0;32m    274\u001b[0m \n\u001b[0;32m    275\u001b[0m \u001b[38;5;66;03m# a monotonic (sorted) series can be sliced\u001b[39;00m\n",
      "\u001b[1;31mKeyError\u001b[0m: ",
      "\nThe above exception was the direct cause of the following exception:\n",
      "\u001b[1;31mKeyError\u001b[0m                                  Traceback (most recent call last)",
      "Input \u001b[1;32mIn [124]\u001b[0m, in \u001b[0;36m<cell line: 3>\u001b[1;34m()\u001b[0m\n\u001b[0;32m      1\u001b[0m \u001b[38;5;66;03m# Plotting AOI(Area of Interest)\u001b[39;00m\n\u001b[1;32m----> 3\u001b[0m p_aoi\u001b[38;5;241m=\u001b[39m\u001b[43mdat_arr\u001b[49m\u001b[38;5;241;43m.\u001b[39;49m\u001b[43mso\u001b[49m\u001b[38;5;241;43m.\u001b[39;49m\u001b[43msel\u001b[49m\u001b[43m(\u001b[49m\u001b[43mtime\u001b[49m\u001b[38;5;241;43m=\u001b[39;49m\u001b[38;5;124;43m\"\u001b[39;49m\u001b[38;5;124;43m2020-06-14\u001b[39;49m\u001b[38;5;124;43m\"\u001b[39;49m\u001b[43m)\u001b[49m\u001b[38;5;241m.\u001b[39msel(longitude\u001b[38;5;241m=\u001b[39m\u001b[38;5;28mslice\u001b[39m(\u001b[38;5;241m74.88\u001b[39m, \u001b[38;5;241m100.2\u001b[39m), latitude\u001b[38;5;241m=\u001b[39m\u001b[38;5;28mslice\u001b[39m(\u001b[38;5;241m1\u001b[39m,\u001b[38;5;241m24\u001b[39m))\n\u001b[0;32m      4\u001b[0m p_aoi\u001b[38;5;241m.\u001b[39mplot()\n",
      "File \u001b[1;32m~\\anaconda3\\envs\\Sea_Data\\lib\\site-packages\\xarray\\core\\dataarray.py:1332\u001b[0m, in \u001b[0;36mDataArray.sel\u001b[1;34m(self, indexers, method, tolerance, drop, **indexers_kwargs)\u001b[0m\n\u001b[0;32m   1223\u001b[0m \u001b[38;5;28;01mdef\u001b[39;00m \u001b[38;5;21msel\u001b[39m(\n\u001b[0;32m   1224\u001b[0m     \u001b[38;5;28mself\u001b[39m,\n\u001b[0;32m   1225\u001b[0m     indexers: Mapping[Any, Any] \u001b[38;5;241m=\u001b[39m \u001b[38;5;28;01mNone\u001b[39;00m,\n\u001b[1;32m   (...)\u001b[0m\n\u001b[0;32m   1229\u001b[0m     \u001b[38;5;241m*\u001b[39m\u001b[38;5;241m*\u001b[39mindexers_kwargs: Any,\n\u001b[0;32m   1230\u001b[0m ) \u001b[38;5;241m-\u001b[39m\u001b[38;5;241m>\u001b[39m \u001b[38;5;124m\"\u001b[39m\u001b[38;5;124mDataArray\u001b[39m\u001b[38;5;124m\"\u001b[39m:\n\u001b[0;32m   1231\u001b[0m     \u001b[38;5;124;03m\"\"\"Return a new DataArray whose data is given by selecting index\u001b[39;00m\n\u001b[0;32m   1232\u001b[0m \u001b[38;5;124;03m    labels along the specified dimension(s).\u001b[39;00m\n\u001b[0;32m   1233\u001b[0m \n\u001b[1;32m   (...)\u001b[0m\n\u001b[0;32m   1330\u001b[0m \u001b[38;5;124;03m    Dimensions without coordinates: points\u001b[39;00m\n\u001b[0;32m   1331\u001b[0m \u001b[38;5;124;03m    \"\"\"\u001b[39;00m\n\u001b[1;32m-> 1332\u001b[0m     ds \u001b[38;5;241m=\u001b[39m \u001b[38;5;28mself\u001b[39m\u001b[38;5;241m.\u001b[39m_to_temp_dataset()\u001b[38;5;241m.\u001b[39msel(\n\u001b[0;32m   1333\u001b[0m         indexers\u001b[38;5;241m=\u001b[39mindexers,\n\u001b[0;32m   1334\u001b[0m         drop\u001b[38;5;241m=\u001b[39mdrop,\n\u001b[0;32m   1335\u001b[0m         method\u001b[38;5;241m=\u001b[39mmethod,\n\u001b[0;32m   1336\u001b[0m         tolerance\u001b[38;5;241m=\u001b[39mtolerance,\n\u001b[0;32m   1337\u001b[0m         \u001b[38;5;241m*\u001b[39m\u001b[38;5;241m*\u001b[39mindexers_kwargs,\n\u001b[0;32m   1338\u001b[0m     )\n\u001b[0;32m   1339\u001b[0m     \u001b[38;5;28;01mreturn\u001b[39;00m \u001b[38;5;28mself\u001b[39m\u001b[38;5;241m.\u001b[39m_from_temp_dataset(ds)\n",
      "File \u001b[1;32m~\\anaconda3\\envs\\Sea_Data\\lib\\site-packages\\xarray\\core\\dataset.py:2504\u001b[0m, in \u001b[0;36mDataset.sel\u001b[1;34m(self, indexers, method, tolerance, drop, **indexers_kwargs)\u001b[0m\n\u001b[0;32m   2443\u001b[0m \u001b[38;5;124;03m\"\"\"Returns a new dataset with each array indexed by tick labels\u001b[39;00m\n\u001b[0;32m   2444\u001b[0m \u001b[38;5;124;03malong the specified dimension(s).\u001b[39;00m\n\u001b[0;32m   2445\u001b[0m \n\u001b[1;32m   (...)\u001b[0m\n\u001b[0;32m   2501\u001b[0m \u001b[38;5;124;03mDataArray.sel\u001b[39;00m\n\u001b[0;32m   2502\u001b[0m \u001b[38;5;124;03m\"\"\"\u001b[39;00m\n\u001b[0;32m   2503\u001b[0m indexers \u001b[38;5;241m=\u001b[39m either_dict_or_kwargs(indexers, indexers_kwargs, \u001b[38;5;124m\"\u001b[39m\u001b[38;5;124msel\u001b[39m\u001b[38;5;124m\"\u001b[39m)\n\u001b[1;32m-> 2504\u001b[0m pos_indexers, new_indexes \u001b[38;5;241m=\u001b[39m \u001b[43mremap_label_indexers\u001b[49m\u001b[43m(\u001b[49m\n\u001b[0;32m   2505\u001b[0m \u001b[43m    \u001b[49m\u001b[38;5;28;43mself\u001b[39;49m\u001b[43m,\u001b[49m\u001b[43m \u001b[49m\u001b[43mindexers\u001b[49m\u001b[38;5;241;43m=\u001b[39;49m\u001b[43mindexers\u001b[49m\u001b[43m,\u001b[49m\u001b[43m \u001b[49m\u001b[43mmethod\u001b[49m\u001b[38;5;241;43m=\u001b[39;49m\u001b[43mmethod\u001b[49m\u001b[43m,\u001b[49m\u001b[43m \u001b[49m\u001b[43mtolerance\u001b[49m\u001b[38;5;241;43m=\u001b[39;49m\u001b[43mtolerance\u001b[49m\n\u001b[0;32m   2506\u001b[0m \u001b[43m\u001b[49m\u001b[43m)\u001b[49m\n\u001b[0;32m   2507\u001b[0m \u001b[38;5;66;03m# TODO: benbovy - flexible indexes: also use variables returned by Index.query\u001b[39;00m\n\u001b[0;32m   2508\u001b[0m \u001b[38;5;66;03m# (temporary dirty fix).\u001b[39;00m\n\u001b[0;32m   2509\u001b[0m new_indexes \u001b[38;5;241m=\u001b[39m {k: v[\u001b[38;5;241m0\u001b[39m] \u001b[38;5;28;01mfor\u001b[39;00m k, v \u001b[38;5;129;01min\u001b[39;00m new_indexes\u001b[38;5;241m.\u001b[39mitems()}\n",
      "File \u001b[1;32m~\\anaconda3\\envs\\Sea_Data\\lib\\site-packages\\xarray\\core\\coordinates.py:421\u001b[0m, in \u001b[0;36mremap_label_indexers\u001b[1;34m(obj, indexers, method, tolerance, **indexers_kwargs)\u001b[0m\n\u001b[0;32m    414\u001b[0m indexers \u001b[38;5;241m=\u001b[39m either_dict_or_kwargs(indexers, indexers_kwargs, \u001b[38;5;124m\"\u001b[39m\u001b[38;5;124mremap_label_indexers\u001b[39m\u001b[38;5;124m\"\u001b[39m)\n\u001b[0;32m    416\u001b[0m v_indexers \u001b[38;5;241m=\u001b[39m {\n\u001b[0;32m    417\u001b[0m     k: v\u001b[38;5;241m.\u001b[39mvariable\u001b[38;5;241m.\u001b[39mdata \u001b[38;5;28;01mif\u001b[39;00m \u001b[38;5;28misinstance\u001b[39m(v, DataArray) \u001b[38;5;28;01melse\u001b[39;00m v\n\u001b[0;32m    418\u001b[0m     \u001b[38;5;28;01mfor\u001b[39;00m k, v \u001b[38;5;129;01min\u001b[39;00m indexers\u001b[38;5;241m.\u001b[39mitems()\n\u001b[0;32m    419\u001b[0m }\n\u001b[1;32m--> 421\u001b[0m pos_indexers, new_indexes \u001b[38;5;241m=\u001b[39m \u001b[43mindexing\u001b[49m\u001b[38;5;241;43m.\u001b[39;49m\u001b[43mremap_label_indexers\u001b[49m\u001b[43m(\u001b[49m\n\u001b[0;32m    422\u001b[0m \u001b[43m    \u001b[49m\u001b[43mobj\u001b[49m\u001b[43m,\u001b[49m\u001b[43m \u001b[49m\u001b[43mv_indexers\u001b[49m\u001b[43m,\u001b[49m\u001b[43m \u001b[49m\u001b[43mmethod\u001b[49m\u001b[38;5;241;43m=\u001b[39;49m\u001b[43mmethod\u001b[49m\u001b[43m,\u001b[49m\u001b[43m \u001b[49m\u001b[43mtolerance\u001b[49m\u001b[38;5;241;43m=\u001b[39;49m\u001b[43mtolerance\u001b[49m\n\u001b[0;32m    423\u001b[0m \u001b[43m\u001b[49m\u001b[43m)\u001b[49m\n\u001b[0;32m    424\u001b[0m \u001b[38;5;66;03m# attach indexer's coordinate to pos_indexers\u001b[39;00m\n\u001b[0;32m    425\u001b[0m \u001b[38;5;28;01mfor\u001b[39;00m k, v \u001b[38;5;129;01min\u001b[39;00m indexers\u001b[38;5;241m.\u001b[39mitems():\n",
      "File \u001b[1;32m~\\anaconda3\\envs\\Sea_Data\\lib\\site-packages\\xarray\\core\\indexing.py:120\u001b[0m, in \u001b[0;36mremap_label_indexers\u001b[1;34m(data_obj, indexers, method, tolerance)\u001b[0m\n\u001b[0;32m    118\u001b[0m \u001b[38;5;28;01mfor\u001b[39;00m dim, index \u001b[38;5;129;01min\u001b[39;00m indexes\u001b[38;5;241m.\u001b[39mitems():\n\u001b[0;32m    119\u001b[0m     labels \u001b[38;5;241m=\u001b[39m grouped_indexers[dim]\n\u001b[1;32m--> 120\u001b[0m     idxr, new_idx \u001b[38;5;241m=\u001b[39m \u001b[43mindex\u001b[49m\u001b[38;5;241;43m.\u001b[39;49m\u001b[43mquery\u001b[49m\u001b[43m(\u001b[49m\u001b[43mlabels\u001b[49m\u001b[43m,\u001b[49m\u001b[43m \u001b[49m\u001b[43mmethod\u001b[49m\u001b[38;5;241;43m=\u001b[39;49m\u001b[43mmethod\u001b[49m\u001b[43m,\u001b[49m\u001b[43m \u001b[49m\u001b[43mtolerance\u001b[49m\u001b[38;5;241;43m=\u001b[39;49m\u001b[43mtolerance\u001b[49m\u001b[43m)\u001b[49m\n\u001b[0;32m    121\u001b[0m     pos_indexers[dim] \u001b[38;5;241m=\u001b[39m idxr\n\u001b[0;32m    122\u001b[0m     \u001b[38;5;28;01mif\u001b[39;00m new_idx \u001b[38;5;129;01mis\u001b[39;00m \u001b[38;5;129;01mnot\u001b[39;00m \u001b[38;5;28;01mNone\u001b[39;00m:\n",
      "File \u001b[1;32m~\\anaconda3\\envs\\Sea_Data\\lib\\site-packages\\xarray\\core\\indexes.py:234\u001b[0m, in \u001b[0;36mPandasIndex.query\u001b[1;34m(self, labels, method, tolerance)\u001b[0m\n\u001b[0;32m    232\u001b[0m         indexer \u001b[38;5;241m=\u001b[39m \u001b[38;5;28mself\u001b[39m\u001b[38;5;241m.\u001b[39mindex\u001b[38;5;241m.\u001b[39mget_loc(label_value)\n\u001b[0;32m    233\u001b[0m     \u001b[38;5;28;01melse\u001b[39;00m:\n\u001b[1;32m--> 234\u001b[0m         indexer \u001b[38;5;241m=\u001b[39m \u001b[38;5;28;43mself\u001b[39;49m\u001b[38;5;241;43m.\u001b[39;49m\u001b[43mindex\u001b[49m\u001b[38;5;241;43m.\u001b[39;49m\u001b[43mget_loc\u001b[49m\u001b[43m(\u001b[49m\n\u001b[0;32m    235\u001b[0m \u001b[43m            \u001b[49m\u001b[43mlabel_value\u001b[49m\u001b[43m,\u001b[49m\u001b[43m \u001b[49m\u001b[43mmethod\u001b[49m\u001b[38;5;241;43m=\u001b[39;49m\u001b[43mmethod\u001b[49m\u001b[43m,\u001b[49m\u001b[43m \u001b[49m\u001b[43mtolerance\u001b[49m\u001b[38;5;241;43m=\u001b[39;49m\u001b[43mtolerance\u001b[49m\n\u001b[0;32m    236\u001b[0m \u001b[43m        \u001b[49m\u001b[43m)\u001b[49m\n\u001b[0;32m    237\u001b[0m \u001b[38;5;28;01melif\u001b[39;00m label\u001b[38;5;241m.\u001b[39mdtype\u001b[38;5;241m.\u001b[39mkind \u001b[38;5;241m==\u001b[39m \u001b[38;5;124m\"\u001b[39m\u001b[38;5;124mb\u001b[39m\u001b[38;5;124m\"\u001b[39m:\n\u001b[0;32m    238\u001b[0m     indexer \u001b[38;5;241m=\u001b[39m label\n",
      "File \u001b[1;32m~\\anaconda3\\envs\\Sea_Data\\lib\\site-packages\\pandas\\core\\indexes\\datetimes.py:653\u001b[0m, in \u001b[0;36mDatetimeIndex.get_loc\u001b[1;34m(self, key, method, tolerance)\u001b[0m\n\u001b[0;32m    651\u001b[0m     \u001b[38;5;28;01mexcept\u001b[39;00m \u001b[38;5;167;01mKeyError\u001b[39;00m \u001b[38;5;28;01mas\u001b[39;00m err:\n\u001b[0;32m    652\u001b[0m         \u001b[38;5;28;01mif\u001b[39;00m method \u001b[38;5;129;01mis\u001b[39;00m \u001b[38;5;28;01mNone\u001b[39;00m:\n\u001b[1;32m--> 653\u001b[0m             \u001b[38;5;28;01mraise\u001b[39;00m \u001b[38;5;167;01mKeyError\u001b[39;00m(key) \u001b[38;5;28;01mfrom\u001b[39;00m \u001b[38;5;21;01merr\u001b[39;00m\n\u001b[0;32m    654\u001b[0m \u001b[38;5;28;01mtry\u001b[39;00m:\n\u001b[0;32m    655\u001b[0m     key \u001b[38;5;241m=\u001b[39m \u001b[38;5;28mself\u001b[39m\u001b[38;5;241m.\u001b[39m_maybe_cast_for_get_loc(key)\n",
      "\u001b[1;31mKeyError\u001b[0m: '2020-06-14'"
     ]
    }
   ],
   "source": [
    "# Plotting AOI(Area of Interest)\n",
    "\n",
    "p_aoi=dat_arr.so.sel(time=\"2020-06-14\").sel(longitude=slice(74.88, 100.2), latitude=slice(1,24))\n",
    "p_aoi.plot()# Extent: Bay of Bengal"
   ]
  },
  {
   "cell_type": "code",
   "execution_count": null,
   "id": "04bf0e50",
   "metadata": {},
   "outputs": [],
   "source": [
    "##### Exporting AOI and Data2009-01-16 as Ne2tCDF file\n",
    "ncF1=p_aoi.to_netcdf(\"SO_2020-06-16.nc\", mode='w')"
   ]
  },
  {
   "cell_type": "code",
   "execution_count": 509,
   "id": "3012c514",
   "metadata": {},
   "outputs": [],
   "source": [
    "# # Reading Exported file and  Extracting Desired variable\n",
    "# ncF2 = xr.open_dataset('Chl_1993-01-16.nc')\n",
    "\n",
    "# VarSla = ncF2['chl']\n",
    "# # Setting Spetial Dimension\n",
    "# VarSla  = VarSla .rio.set_spatial_dims('longitude', 'latitude')\n",
    "# # Specifying projection System\n",
    "# prjSla=VarSla .rio.set_crs(\"epsg:4326\") # WGS 84 "
   ]
  },
  {
   "cell_type": "code",
   "execution_count": 9,
   "id": "032f3d8d",
   "metadata": {},
   "outputs": [],
   "source": [
    "# # Exporting final Raster\n",
    "# prjSla.rio.to_raster(r\"Sla_1993-01-16.tif\")\n",
    "\n",
    "\n",
    "# ##### End ####"
   ]
  },
  {
   "cell_type": "code",
   "execution_count": null,
   "id": "20538160",
   "metadata": {},
   "outputs": [],
   "source": []
  }
 ],
 "metadata": {
  "kernelspec": {
   "display_name": "Python 3 (ipykernel)",
   "language": "python",
   "name": "python3"
  },
  "language_info": {
   "codemirror_mode": {
    "name": "ipython",
    "version": 3
   },
   "file_extension": ".py",
   "mimetype": "text/x-python",
   "name": "python",
   "nbconvert_exporter": "python",
   "pygments_lexer": "ipython3",
   "version": "3.9.13"
  }
 },
 "nbformat": 4,
 "nbformat_minor": 5
}
